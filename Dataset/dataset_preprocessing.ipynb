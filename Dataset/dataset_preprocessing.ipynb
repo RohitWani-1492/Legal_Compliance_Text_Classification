{
 "cells": [
  {
   "cell_type": "code",
   "execution_count": null,
   "id": "c2ea0c1f",
   "metadata": {},
   "outputs": [],
   "source": [
    "!pip install datasets"
   ]
  },
  {
   "cell_type": "code",
   "execution_count": null,
   "id": "ae9402ff",
   "metadata": {},
   "outputs": [
    {
     "name": "stdout",
     "output_type": "stream",
     "text": [
      "Original distribution:\n",
      " label\n",
      "CAN-SPAM Violation    54\n",
      "CCPA Disclosure       50\n",
      "CAN-SPAM Compliant    40\n",
      "Non-Disclosure        35\n",
      "Name: count, dtype: int64\n",
      "DatasetDict({\n",
      "    train: Dataset({\n",
      "        features: ['text', 'labels'],\n",
      "        num_rows: 98\n",
      "    })\n",
      "    validation: Dataset({\n",
      "        features: ['text', 'labels'],\n",
      "        num_rows: 21\n",
      "    })\n",
      "    test: Dataset({\n",
      "        features: ['text', 'labels'],\n",
      "        num_rows: 21\n",
      "    })\n",
      "})\n"
     ]
    }
   ],
   "source": [
    "import pandas as pd\n",
    "from datasets import Dataset, DatasetDict\n",
    "\n",
    "# Loading dataset\n",
    "df = pd.read_csv(\"legal_compliance_dataset.csv\")\n",
    "df = df.dropna()\n",
    "\n",
    "# Checking class distribution\n",
    "print(\"Original distribution:\\n\", df['label'].value_counts())\n",
    "\n",
    "# Define number of samples per class (use minimum class size or cap at 1500)\n",
    "num_samples = min(df['label'].value_counts().min(), 1500)\n",
    "\n",
    "# Sampling equally from each class\n",
    "df_samples = []\n",
    "for label in df['label'].unique():\n",
    "    df_class = df[df['label'] == label]\n",
    "    df_class_sample = df_class.sample(num_samples, random_state=42)\n",
    "    df_samples.append(df_class_sample)\n",
    "\n",
    "# Concatenatening balanced dataset\n",
    "balanced_df = pd.concat(df_samples)\n",
    "\n",
    "# Renaming columns to match HuggingFace format\n",
    "balanced_df = balanced_df.rename(columns={'label': 'labels'})\n",
    "\n",
    "# Encoding labels as integers\n",
    "balanced_df['labels'] = balanced_df['labels'].astype('category').cat.codes\n",
    "\n",
    "# Shuffling dataset\n",
    "balanced_df = balanced_df.sample(frac=1, random_state=42).reset_index(drop=True)\n",
    "\n",
    "# Split ratios\n",
    "train_frac = 0.7\n",
    "valid_frac = 0.15\n",
    "test_frac = 0.15\n",
    "\n",
    "train_size = int(train_frac * len(balanced_df))\n",
    "valid_size = int(valid_frac * len(balanced_df))\n",
    "\n",
    "train_df = balanced_df[:train_size]\n",
    "valid_df = balanced_df[train_size:train_size + valid_size]\n",
    "test_df = balanced_df[train_size + valid_size:]\n",
    "\n",
    "# Converting to Hugging Face datasets\n",
    "train_ds = Dataset.from_pandas(train_df)\n",
    "valid_ds = Dataset.from_pandas(valid_df)\n",
    "test_ds = Dataset.from_pandas(test_df)\n",
    "\n",
    "dataset_dict = DatasetDict({\n",
    "    'train': train_ds,\n",
    "    'validation': valid_ds,\n",
    "    'test': test_ds\n",
    "})\n",
    "\n",
    "print(dataset_dict)\n"
   ]
  },
  {
   "cell_type": "code",
   "execution_count": 2,
   "id": "bba5e189",
   "metadata": {},
   "outputs": [
    {
     "data": {
      "application/vnd.jupyter.widget-view+json": {
       "model_id": "f671b47430ef4a0983431793d6c3d603",
       "version_major": 2,
       "version_minor": 0
      },
      "text/plain": [
       "VBox(children=(HTML(value='<center> <img\\nsrc=https://huggingface.co/front/assets/huggingface_logo-noborder.sv…"
      ]
     },
     "metadata": {},
     "output_type": "display_data"
    }
   ],
   "source": [
    "from huggingface_hub import notebook_login\n",
    "notebook_login()"
   ]
  },
  {
   "cell_type": "code",
   "execution_count": 3,
   "id": "d7ea6736",
   "metadata": {},
   "outputs": [
    {
     "data": {
      "application/vnd.jupyter.widget-view+json": {
       "model_id": "14ad36d8f56f4c93a8f676b6d707c740",
       "version_major": 2,
       "version_minor": 0
      },
      "text/plain": [
       "Uploading the dataset shards:   0%|          | 0/1 [00:00<?, ? shards/s]"
      ]
     },
     "metadata": {},
     "output_type": "display_data"
    },
    {
     "data": {
      "application/vnd.jupyter.widget-view+json": {
       "model_id": "41c84c54a7524bf289d83c8cfa2f4c8e",
       "version_major": 2,
       "version_minor": 0
      },
      "text/plain": [
       "Creating parquet from Arrow format:   0%|          | 0/1 [00:00<?, ?ba/s]"
      ]
     },
     "metadata": {},
     "output_type": "display_data"
    },
    {
     "data": {
      "application/vnd.jupyter.widget-view+json": {
       "model_id": "8335f5f68ff242ee9bd4bf4903470636",
       "version_major": 2,
       "version_minor": 0
      },
      "text/plain": [
       "Uploading the dataset shards:   0%|          | 0/1 [00:00<?, ? shards/s]"
      ]
     },
     "metadata": {},
     "output_type": "display_data"
    },
    {
     "data": {
      "application/vnd.jupyter.widget-view+json": {
       "model_id": "82b2ec6e2bca4edd891966434e747850",
       "version_major": 2,
       "version_minor": 0
      },
      "text/plain": [
       "Creating parquet from Arrow format:   0%|          | 0/1 [00:00<?, ?ba/s]"
      ]
     },
     "metadata": {},
     "output_type": "display_data"
    },
    {
     "data": {
      "application/vnd.jupyter.widget-view+json": {
       "model_id": "3047c8bd984f4f8399af83a532b1e8f5",
       "version_major": 2,
       "version_minor": 0
      },
      "text/plain": [
       "Uploading the dataset shards:   0%|          | 0/1 [00:00<?, ? shards/s]"
      ]
     },
     "metadata": {},
     "output_type": "display_data"
    },
    {
     "data": {
      "application/vnd.jupyter.widget-view+json": {
       "model_id": "87baf8a01b1945829bd930110fe8b1a6",
       "version_major": 2,
       "version_minor": 0
      },
      "text/plain": [
       "Creating parquet from Arrow format:   0%|          | 0/1 [00:00<?, ?ba/s]"
      ]
     },
     "metadata": {},
     "output_type": "display_data"
    },
    {
     "data": {
      "text/plain": [
       "CommitInfo(commit_url='https://huggingface.co/datasets/RohitWani17/legalcompliance/commit/d6c3a6103eb21ac1bd8c653259248bb3f2c5b7c7', commit_message='Upload dataset', commit_description='', oid='d6c3a6103eb21ac1bd8c653259248bb3f2c5b7c7', pr_url=None, repo_url=RepoUrl('https://huggingface.co/datasets/RohitWani17/legalcompliance', endpoint='https://huggingface.co', repo_type='dataset', repo_id='RohitWani17/legalcompliance'), pr_revision=None, pr_num=None)"
      ]
     },
     "execution_count": 3,
     "metadata": {},
     "output_type": "execute_result"
    }
   ],
   "source": [
    "dataset_dict.push_to_hub(\"RohitWani17/legalcompliance\")"
   ]
  }
 ],
 "metadata": {
  "kernelspec": {
   "display_name": "bgds_llmenv",
   "language": "python",
   "name": "python3"
  },
  "language_info": {
   "codemirror_mode": {
    "name": "ipython",
    "version": 3
   },
   "file_extension": ".py",
   "mimetype": "text/x-python",
   "name": "python",
   "nbconvert_exporter": "python",
   "pygments_lexer": "ipython3",
   "version": "3.13.1"
  }
 },
 "nbformat": 4,
 "nbformat_minor": 5
}
